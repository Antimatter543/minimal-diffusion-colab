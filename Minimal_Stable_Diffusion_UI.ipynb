{
  "nbformat": 4,
  "nbformat_minor": 0,
  "metadata": {
    "colab": {
      "provenance": [],
      "private_outputs": true
    },
    "kernelspec": {
      "name": "python3",
      "display_name": "Python 3"
    },
    "language_info": {
      "name": "python"
    },
    "accelerator": "GPU",
    "gpuClass": "standard"
  },
  "cells": [
    {
      "cell_type": "code",
      "execution_count": null,
      "metadata": {
        "id": "xxMJ1bV-qeHl"
      },
      "outputs": [],
      "source": [
        "# This installs xformers (make things run a lot faster)\n",
        "!pip install -q https://github.com/Antimatter543/minimal-diffusion-colab/releases/download/0.015/xformers-0.0.15+e163309.d20230103-cp38-cp38-linux_x86_64.whl\n",
        "!git clone https://github.com/Antimatter543/stable-diffusion-webui # Replace with AUTO's up to date webui if you want\n",
        "%cd /content/stable-diffusion-webui\n",
        "\n",
        "# Install model into models folder -- dreamlike art for now.\n",
        "!wget https://huggingface.co/dreamlike-art/dreamlike-diffusion-1.0/resolve/main/dreamlike-diffusion-1.0.ckpt -O /content/stable-diffusion-webui/models/Stable-diffusion/dreamlike-diffusion-1.0.ckpt\n",
        "\n",
        "!python launch.py --share --xformers\n",
        "# Kill this codeblock if you're going to add new models/extensions later."
      ]
    },
    {
      "cell_type": "markdown",
      "source": [
        "Stuff below, extensions etc.. Above is the complete minimal requirements. Just run that and you're flowing.\n",
        "This notebook is heavily inspired from https://github.com/camenduru/stable-diffusion-webui-colab/. As in, literally just edited one of their colabs to my liking and to understand what was going on.\n",
        "\n",
        "# Extensions\n",
        "The following are extensions. These add onto the webui -- image browser, push to huggingface extension, etc... Add/remove as you wish. Running it is optional. You will have to kill the UI codeblock and then run these."
      ],
      "metadata": {
        "id": "9hHxsmSGqnIa"
      }
    },
    {
      "cell_type": "code",
      "source": [
        "\n",
        "# These are extensions that are downloaded and then yeeted into the extensions folder.\n",
        "# This does cool video stuff.\n",
        "!git clone https://github.com/deforum-art/deforum-for-automatic1111-webui /content/stable-diffusion-webui/extensions/deforum-for-automatic1111-webui \n",
        "# Adds a browser extension so you can look at photos made in the UI\n",
        "!git clone https://github.com/yfszzx/stable-diffusion-webui-images-browser /content/stable-diffusion-webui/extensions/stable-diffusion-webui-images-browser\n",
        "# Adds a pull/push to huggingface extension to the UI \n",
        "!git clone https://github.com/camenduru/stable-diffusion-webui-huggingface /content/stable-diffusion-webui/extensions/stable-diffusion-webui-huggingface\n",
        "\n"
      ],
      "metadata": {
        "id": "cECe2TYIqrqM"
      },
      "execution_count": null,
      "outputs": []
    },
    {
      "cell_type": "markdown",
      "source": [
        "\n",
        "## Models\n",
        "Different models for download here. Uncomment/whatever as you see fit.\n",
        "Just turn off the first codeblock that runs the UI, download new model (uncomment the !commands by doing 'ctrl+/', and turn it back on with launch.py below.\n",
        "\n",
        "#### Note\n",
        "You can't download *every* model in this one colab instance -- it will get full eventually. You can just restart the runtime, and do the same steps you did before, but with the new models instead.\n",
        "Yes, I could make this a lot better. I might."
      ],
      "metadata": {
        "id": "NY05ZBs8tEPx"
      }
    },
    {
      "cell_type": "code",
      "source": [
        "## SD Series\n",
        "# # SD 1.4\n",
        "# !wget https://huggingface.co/CompVis/stable-diffusion-v-1-4-original/blob/main/sd-v1-4.ckpt  -O /content/stable-diffusion-webui/models/Stable-diffusion/sd-v1-4.ckpt\n",
        "\n",
        "# # SD 1.5\n",
        "# !wget https://huggingface.co/camenduru/sd15/resolve/main/v1-5-pruned-emaonly.ckpt -O /content/stable-diffusion-webui/models/Stable-diffusion/v1-5-pruned-emaonly.ckpt\n",
        "# # SD 2.1\n",
        "# !wget https://huggingface.co/stabilityai/stable-diffusion-2-1/resolve/main/v2-1_768-ema-pruned.ckpt /content/stable-diffusion-webui/models/Stable-diffusion/v2-1_768_ema-pruned.ckpt\n",
        "\n",
        "\n",
        "# # Openjourney\n",
        "# !wget https://huggingface.co/prompthero/openjourney/resolve/main/mdjrny-v4.ckpt -O /content/stable-diffusion-webui/models/Stable-diffusion/mdjrny-v4.ckpt\n",
        "\n",
        "## Etc... Place your own models with the format above here.\n",
        "\n",
        "\n"
      ],
      "metadata": {
        "id": "V6FFT5jJyYpW"
      },
      "execution_count": null,
      "outputs": []
    },
    {
      "cell_type": "code",
      "source": [
        "# Purely just relaunch the UI instead of reloading the first codeblock.\n",
        "!python launch.py --share --xformers"
      ],
      "metadata": {
        "id": "SrKy2DDdyqOr"
      },
      "execution_count": null,
      "outputs": []
    }
  ]
}